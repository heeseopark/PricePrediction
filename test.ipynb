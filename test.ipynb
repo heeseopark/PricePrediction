{
 "cells": [
  {
   "cell_type": "code",
   "execution_count": null,
   "metadata": {},
   "outputs": [],
   "source": [
    "from datetime import datetime\n",
    "\n",
    "start_date = datetime.strptime('2021-03-01', '%Y-%m-%d').date()\n",
    "end_date = datetime.strptime('2023-04-30', '%Y-%m-%d').date()\n",
    "\n",
    "num_dates = (end_date - start_date).days + 1\n",
    "\n",
    "print(num_dates)"
   ]
  }
 ],
 "metadata": {
  "language_info": {
   "name": "python"
  },
  "orig_nbformat": 4
 },
 "nbformat": 4,
 "nbformat_minor": 2
}
