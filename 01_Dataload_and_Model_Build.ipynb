{
 "cells": [
  {
   "cell_type": "code",
   "execution_count": 38,
   "metadata": {},
   "outputs": [],
   "source": [
    "import torch\n",
    "from torch.utils.data import IterableDataset, DataLoader, Subset\n",
    "from datetime import datetime, timedelta\n",
    "import pandas as pd\n",
    "import os\n",
    "import random\n",
    "import numpy as np\n",
    "import torch.nn as nn\n",
    "from pandas import DataFrame as df\n"
   ]
  },
  {
   "attachments": {},
   "cell_type": "markdown",
   "metadata": {},
   "source": [
    "#### Check device and assign device"
   ]
  },
  {
   "cell_type": "code",
   "execution_count": 39,
   "metadata": {},
   "outputs": [],
   "source": [
    "# check if CUDA is available\n",
    "device = torch.device('cuda' if torch.cuda.is_available() else 'cpu')\n"
   ]
  },
  {
   "attachments": {},
   "cell_type": "markdown",
   "metadata": {},
   "source": [
    "#### Assign Seed"
   ]
  },
  {
   "cell_type": "code",
   "execution_count": 40,
   "metadata": {},
   "outputs": [],
   "source": [
    "seed = 42  # choose any seed you prefer\n",
    "random.seed(seed)\n",
    "np.random.seed(seed)\n",
    "torch.manual_seed(seed)\n",
    "if torch.cuda.is_available():\n",
    "    torch.cuda.manual_seed_all(seed)"
   ]
  },
  {
   "attachments": {},
   "cell_type": "markdown",
   "metadata": {},
   "source": [
    "##### Build Custom Dataset Class"
   ]
  },
  {
   "cell_type": "code",
   "execution_count": 41,
   "metadata": {},
   "outputs": [],
   "source": [
    "class PriceDataset(IterableDataset):\n",
    "    def __init__(self, item, timespan, start_date_str, end_date_str):\n",
    "        self.directory = f'csvfiles/{item}'\n",
    "        self.item = item\n",
    "        self.timespan = timespan\n",
    "        start_date = datetime.strptime(start_date_str, '%Y-%m-%d').date()\n",
    "        end_date = datetime.strptime(end_date_str, '%Y-%m-%d').date()\n",
    "        self.dates = [single_date.strftime(\"%Y-%m-%d\") for single_date in self.daterange(start_date, end_date)]\n",
    "        self.columns = [0, 1, 2, 3, 4, 7]\n",
    "        self.filenames = self.get_filenames()\n",
    "\n",
    "    def daterange(self, start_date, end_date):\n",
    "        for n in range(int((end_date - start_date).days) + 1):\n",
    "            yield start_date + timedelta(n)\n",
    "\n",
    "    def get_filenames(self):\n",
    "        filenames = []\n",
    "        for date in self.dates:\n",
    "            filename = f\"{self.directory}/{self.item}-{self.timespan}-{date}.csv\"\n",
    "            if os.path.exists(filename):\n",
    "                filenames.append(filename)\n",
    "        return filenames\n",
    "\n",
    "    def __len__(self):\n",
    "        return len(self.filenames)\n",
    "\n",
    "    def __getitem__(self, idx):\n",
    "        filename = self.filenames[idx]\n",
    "        df = pd.read_csv(filename, usecols=self.columns, header=None)\n",
    "        return torch.tensor(df.values, dtype=torch.float32)\n",
    "\n",
    "# Dataset is supposed to be [number of dates used][number of rows in each csv file][6, means the number of columns we are using in each csv file]\n"
   ]
  },
  {
   "cell_type": "code",
   "execution_count": 42,
   "metadata": {},
   "outputs": [
    {
     "name": "stdout",
     "output_type": "stream",
     "text": [
      "tensor([[1.6146e+12, 4.9596e+04, 4.9618e+04, 4.9515e+04, 4.9615e+04, 3.7691e+06],\n",
      "        [1.6146e+12, 4.9615e+04, 4.9680e+04, 4.9603e+04, 4.9636e+04, 2.7946e+06],\n",
      "        [1.6146e+12, 4.9636e+04, 4.9681e+04, 4.9616e+04, 4.9681e+04, 3.1195e+06],\n",
      "        ...,\n",
      "        [1.6147e+12, 4.8271e+04, 4.8302e+04, 4.8209e+04, 4.8282e+04, 1.0566e+06],\n",
      "        [1.6147e+12, 4.8285e+04, 4.8320e+04, 4.8274e+04, 4.8306e+04, 6.4944e+05],\n",
      "        [1.6147e+12, 4.8306e+04, 4.8476e+04, 4.8276e+04, 4.8441e+04, 3.3106e+06]])\n"
     ]
    }
   ],
   "source": [
    "model1 = PriceDataset('BTCUSDT', '1m', '2021-03-01', '2023-04-30')\n",
    "\n",
    "print(model1.__getitem__(1))"
   ]
  },
  {
   "attachments": {},
   "cell_type": "markdown",
   "metadata": {},
   "source": [
    "##### Set Dataset and DataLoader\n",
    "* Send Dataset and DataLoader to GPU for faster Calculation\n",
    "* Make Batch for Dataloader\n",
    "* Devide Training Set and Testing Set"
   ]
  },
  {
   "cell_type": "code",
   "execution_count": 43,
   "metadata": {},
   "outputs": [],
   "source": [
    "def sliding_window_fn(batch):\n",
    "    windows = []\n",
    "    for tensor in batch:\n",
    "        for i in range(tensor.shape[0] - 30 + 1):  # Create windows of 30 rows each\n",
    "            windows.append(tensor[i:i+30])\n",
    "    return torch.stack(windows)\n",
    "\n",
    "\n",
    "\n",
    "# Create the dataset\n",
    "dataset = PriceDataset('BTCUSDT', '1m', '2021-03-01', '2023-04-30')\n",
    "\n",
    "# Shuffle the dataset indices\n",
    "indices = list(range(len(dataset)))\n",
    "random.shuffle(indices)\n",
    "\n",
    "# Split the indices into training and test sets\n",
    "split_idx = int(0.8 * len(indices))\n",
    "train_indices, test_indices = indices[:split_idx], indices[split_idx:]\n",
    "\n",
    "# Create data subsets using the indices\n",
    "train_data = Subset(dataset, train_indices)\n",
    "test_data = Subset(dataset, test_indices)\n",
    "\n",
    "# Create the data loaders\n",
    "train_loader = DataLoader(train_data, batch_size=1, collate_fn=sliding_window_fn, shuffle=False, drop_last=True)\n",
    "test_loader = DataLoader(test_data, batch_size=1, collate_fn=sliding_window_fn, shuffle=False, drop_last=True)"
   ]
  },
  {
   "cell_type": "code",
   "execution_count": 44,
   "metadata": {},
   "outputs": [
    {
     "name": "stdout",
     "output_type": "stream",
     "text": [
      "Batch index: 0, Batch tensor shape: torch.Size([1411, 30, 6])\n",
      "Batch index: 0, Batch tensor shape: torch.Size([1331, 30, 6])\n"
     ]
    }
   ],
   "source": [
    "# To view first batch of the training data loader\n",
    "for batch_idx, batch in enumerate(train_loader):\n",
    "    print(f'Batch index: {batch_idx}, Batch tensor shape: {batch.shape}')\n",
    "    break  # To prevent printing all the data\n",
    "\n",
    "# To view first batch of the test data loader\n",
    "for batch_idx, batch in enumerate(test_loader):\n",
    "    print(f'Batch index: {batch_idx}, Batch tensor shape: {batch.shape}')\n",
    "    break  # To prevent printing all the data\n",
    "\n",
    "\n",
    "\n"
   ]
  },
  {
   "attachments": {},
   "cell_type": "markdown",
   "metadata": {},
   "source": [
    "##### Build LSTM Model"
   ]
  },
  {
   "cell_type": "code",
   "execution_count": 45,
   "metadata": {},
   "outputs": [],
   "source": [
    "class StackedLSTM(nn.Module):\n",
    "    def __init__(self, input_dim, hidden_dim, layer_dim, output_dim):\n",
    "        super(StackedLSTM, self).__init__()\n",
    "        self.hidden_dim = hidden_dim\n",
    "        self.layer_dim = layer_dim\n",
    "\n",
    "        # The LSTM layers\n",
    "        self.lstm = nn.LSTM(input_dim, hidden_dim, layer_dim, batch_first=True)\n",
    "\n",
    "        # The final Fully-Connected layer that gives us our predictions\n",
    "        self.fc = nn.Linear(hidden_dim, output_dim)\n",
    "\n",
    "        # Layer to output probabilities\n",
    "        self.probability = nn.Softmax(dim=-1)\n",
    "        \n",
    "    def forward(self, x):\n",
    "        # Initialize hidden state with zeros\n",
    "        h0 = torch.zeros(self.layer_dim, x.size(0), self.hidden_dim).to(x.device)\n",
    "\n",
    "        # Initialize cell state with zeros\n",
    "        c0 = torch.zeros(self.layer_dim, x.size(0), self.hidden_dim).to(x.device)\n",
    "\n",
    "        # Get the outputs and the new hidden state from the LSTM\n",
    "        out, (hn, cn) = self.lstm(x, (h0, c0))\n",
    "        \n",
    "        # Index hidden state of last time step\n",
    "        out = self.fc(out[:, -5:, :])  # out.size() --> batch_size, output_dim\n",
    "\n",
    "        # Get probabilities\n",
    "        probs = self.probability(out)\n",
    "        \n",
    "        return out, probs\n",
    "\n"
   ]
  },
  {
   "attachments": {},
   "cell_type": "markdown",
   "metadata": {},
   "source": [
    "#### Train LSTM Model"
   ]
  },
  {
   "cell_type": "code",
   "execution_count": 46,
   "metadata": {},
   "outputs": [
    {
     "name": "stdout",
     "output_type": "stream",
     "text": [
      "Epoch [1/10], Step [1/632], Loss: 4235305156608.0000\n",
      "Epoch [1/10], Step [101/632], Loss: 2489881460736.0000\n",
      "Epoch [1/10], Step [201/632], Loss: 722572279808.0000\n",
      "Epoch [1/10], Step [301/632], Loss: 2391701716992.0000\n",
      "Epoch [1/10], Step [401/632], Loss: 663110811648.0000\n",
      "Epoch [1/10], Step [501/632], Loss: 30911429083136.0000\n",
      "Epoch [1/10], Step [601/632], Loss: 1392776577024.0000\n",
      "Epoch [2/10], Step [1/632], Loss: 4235185356800.0000\n",
      "Epoch [2/10], Step [101/632], Loss: 2489788661760.0000\n",
      "Epoch [2/10], Step [201/632], Loss: 722522013696.0000\n",
      "Epoch [2/10], Step [301/632], Loss: 2391625695232.0000\n",
      "Epoch [2/10], Step [401/632], Loss: 663071883264.0000\n",
      "Epoch [2/10], Step [501/632], Loss: 30911127093248.0000\n",
      "Epoch [2/10], Step [601/632], Loss: 1392713007104.0000\n",
      "Epoch [3/10], Step [1/632], Loss: 4235073421312.0000\n",
      "Epoch [3/10], Step [101/632], Loss: 2489697435648.0000\n",
      "Epoch [3/10], Step [201/632], Loss: 722472599552.0000\n",
      "Epoch [3/10], Step [301/632], Loss: 2391550459904.0000\n",
      "Epoch [3/10], Step [401/632], Loss: 663033413632.0000\n",
      "Epoch [3/10], Step [501/632], Loss: 30910825103360.0000\n",
      "Epoch [3/10], Step [601/632], Loss: 1392649699328.0000\n",
      "Epoch [4/10], Step [1/632], Loss: 4234961747968.0000\n",
      "Epoch [4/10], Step [101/632], Loss: 2489606733824.0000\n",
      "Epoch [4/10], Step [201/632], Loss: 722423382016.0000\n",
      "Epoch [4/10], Step [301/632], Loss: 2391475486720.0000\n",
      "Epoch [4/10], Step [401/632], Loss: 662995009536.0000\n",
      "Epoch [4/10], Step [501/632], Loss: 30910523113472.0000\n",
      "Epoch [4/10], Step [601/632], Loss: 1392586391552.0000\n",
      "Epoch [5/10], Step [1/632], Loss: 4234850861056.0000\n",
      "Epoch [5/10], Step [101/632], Loss: 2489515769856.0000\n",
      "Epoch [5/10], Step [201/632], Loss: 722374295552.0000\n",
      "Epoch [5/10], Step [301/632], Loss: 2391400251392.0000\n",
      "Epoch [5/10], Step [401/632], Loss: 662956670976.0000\n",
      "Epoch [5/10], Step [501/632], Loss: 30910221123584.0000\n",
      "Epoch [5/10], Step [601/632], Loss: 1392523345920.0000\n",
      "Epoch [6/10], Step [1/632], Loss: 4234739712000.0000\n",
      "Epoch [6/10], Step [101/632], Loss: 2489425330176.0000\n",
      "Epoch [6/10], Step [201/632], Loss: 722325274624.0000\n",
      "Epoch [6/10], Step [301/632], Loss: 2391325540352.0000\n",
      "Epoch [6/10], Step [401/632], Loss: 662918332416.0000\n",
      "Epoch [6/10], Step [501/632], Loss: 30909919133696.0000\n",
      "Epoch [6/10], Step [601/632], Loss: 1392460169216.0000\n",
      "Epoch [7/10], Step [1/632], Loss: 4234628300800.0000\n",
      "Epoch [7/10], Step [101/632], Loss: 2489334890496.0000\n",
      "Epoch [7/10], Step [201/632], Loss: 722276188160.0000\n",
      "Epoch [7/10], Step [301/632], Loss: 2391250829312.0000\n",
      "Epoch [7/10], Step [401/632], Loss: 662880059392.0000\n",
      "Epoch [7/10], Step [501/632], Loss: 30909619240960.0000\n",
      "Epoch [7/10], Step [601/632], Loss: 1392397254656.0000\n",
      "Epoch [8/10], Step [1/632], Loss: 4234517151744.0000\n",
      "Epoch [8/10], Step [101/632], Loss: 2489244450816.0000\n",
      "Epoch [8/10], Step [201/632], Loss: 722227232768.0000\n",
      "Epoch [8/10], Step [301/632], Loss: 2391176380416.0000\n",
      "Epoch [8/10], Step [401/632], Loss: 662841851904.0000\n",
      "Epoch [8/10], Step [501/632], Loss: 30909317251072.0000\n",
      "Epoch [8/10], Step [601/632], Loss: 1392334209024.0000\n",
      "Epoch [9/10], Step [1/632], Loss: 4234406526976.0000\n",
      "Epoch [9/10], Step [101/632], Loss: 2489154011136.0000\n",
      "Epoch [9/10], Step [201/632], Loss: 722178277376.0000\n",
      "Epoch [9/10], Step [301/632], Loss: 2391101407232.0000\n",
      "Epoch [9/10], Step [401/632], Loss: 662803644416.0000\n",
      "Epoch [9/10], Step [501/632], Loss: 30909015261184.0000\n",
      "Epoch [9/10], Step [601/632], Loss: 1392271294464.0000\n",
      "Epoch [10/10], Step [1/632], Loss: 4234295115776.0000\n",
      "Epoch [10/10], Step [101/632], Loss: 2489063309312.0000\n",
      "Epoch [10/10], Step [201/632], Loss: 722129321984.0000\n",
      "Epoch [10/10], Step [301/632], Loss: 2391026696192.0000\n",
      "Epoch [10/10], Step [401/632], Loss: 662765371392.0000\n",
      "Epoch [10/10], Step [501/632], Loss: 30908715368448.0000\n",
      "Epoch [10/10], Step [601/632], Loss: 1392208117760.0000\n"
     ]
    }
   ],
   "source": [
    "# Model, Loss, and Optimizer\n",
    "input_dim = 5   # Number of input features (excluding time)\n",
    "hidden_dim = 150   # Number of hidden neurons in the LSTM layers\n",
    "layer_dim = 5   # Number of stacked LSTM layers\n",
    "output_dim = 5  # Number of output features (excluding time)\n",
    "\n",
    "model = StackedLSTM(input_dim, hidden_dim, layer_dim, output_dim)\n",
    "model = model.to(device)\n",
    "\n",
    "criterion = nn.MSELoss()  # Use mean square error loss for regression problem\n",
    "optimizer = torch.optim.Adam(model.parameters(), lr=0.001)  # Use Adam optimizer\n",
    "\n",
    "# Set hyperparameters\n",
    "epochs = 10\n",
    "\n",
    "# loop over epochs\n",
    "for epoch in range(epochs):\n",
    "\n",
    "    # loop over the data loader\n",
    "    for i, batch in enumerate(train_loader):\n",
    "        features = batch[:, :, 1:].to(device)\n",
    "\n",
    "        # forward pass: compute predicted outputs by passing inputs to the model\n",
    "        output, probs = model(features)\n",
    "\n",
    "        # targets for the last 5 timesteps (excluding time feature)\n",
    "        targets = features[:, -5:, :]\n",
    "\n",
    "        # calculate the loss\n",
    "        loss = criterion(output, targets)\n",
    "\n",
    "        # zero the gradients\n",
    "        optimizer.zero_grad()\n",
    "\n",
    "        # backward pass: compute gradient of the loss with respect to model parameters\n",
    "        loss.backward()\n",
    "\n",
    "        # perform a single optimization step (parameter update)\n",
    "        optimizer.step()\n",
    "\n",
    "        # output training information\n",
    "        if i % 100 == 0:\n",
    "            print(f'Epoch [{epoch+1}/{epochs}], Step [{i+1}/{len(train_loader)}], Loss: {loss.item():.4f}')\n"
   ]
  },
  {
   "attachments": {},
   "cell_type": "markdown",
   "metadata": {},
   "source": [
    "#### Model Evaluation"
   ]
  },
  {
   "cell_type": "code",
   "execution_count": 47,
   "metadata": {},
   "outputs": [
    {
     "ename": "RuntimeError",
     "evalue": "input.size(-1) must be equal to input_size. Expected 5, got 6",
     "output_type": "error",
     "traceback": [
      "\u001b[1;31m---------------------------------------------------------------------------\u001b[0m",
      "\u001b[1;31mRuntimeError\u001b[0m                              Traceback (most recent call last)",
      "Cell \u001b[1;32mIn[47], line 9\u001b[0m\n\u001b[0;32m      7\u001b[0m \u001b[39m# Get the model's predictions\u001b[39;00m\n\u001b[0;32m      8\u001b[0m \u001b[39mwith\u001b[39;00m torch\u001b[39m.\u001b[39mno_grad():\n\u001b[1;32m----> 9\u001b[0m     predictions, probabilities \u001b[39m=\u001b[39m model(sample)\n",
      "File \u001b[1;32mc:\\Users\\heeseopark\\AppData\\Local\\Programs\\Python\\Python311\\Lib\\site-packages\\torch\\nn\\modules\\module.py:1501\u001b[0m, in \u001b[0;36mModule._call_impl\u001b[1;34m(self, *args, **kwargs)\u001b[0m\n\u001b[0;32m   1496\u001b[0m \u001b[39m# If we don't have any hooks, we want to skip the rest of the logic in\u001b[39;00m\n\u001b[0;32m   1497\u001b[0m \u001b[39m# this function, and just call forward.\u001b[39;00m\n\u001b[0;32m   1498\u001b[0m \u001b[39mif\u001b[39;00m \u001b[39mnot\u001b[39;00m (\u001b[39mself\u001b[39m\u001b[39m.\u001b[39m_backward_hooks \u001b[39mor\u001b[39;00m \u001b[39mself\u001b[39m\u001b[39m.\u001b[39m_backward_pre_hooks \u001b[39mor\u001b[39;00m \u001b[39mself\u001b[39m\u001b[39m.\u001b[39m_forward_hooks \u001b[39mor\u001b[39;00m \u001b[39mself\u001b[39m\u001b[39m.\u001b[39m_forward_pre_hooks\n\u001b[0;32m   1499\u001b[0m         \u001b[39mor\u001b[39;00m _global_backward_pre_hooks \u001b[39mor\u001b[39;00m _global_backward_hooks\n\u001b[0;32m   1500\u001b[0m         \u001b[39mor\u001b[39;00m _global_forward_hooks \u001b[39mor\u001b[39;00m _global_forward_pre_hooks):\n\u001b[1;32m-> 1501\u001b[0m     \u001b[39mreturn\u001b[39;00m forward_call(\u001b[39m*\u001b[39;49margs, \u001b[39m*\u001b[39;49m\u001b[39m*\u001b[39;49mkwargs)\n\u001b[0;32m   1502\u001b[0m \u001b[39m# Do not call functions when jit is used\u001b[39;00m\n\u001b[0;32m   1503\u001b[0m full_backward_hooks, non_full_backward_hooks \u001b[39m=\u001b[39m [], []\n",
      "Cell \u001b[1;32mIn[45], line 24\u001b[0m, in \u001b[0;36mStackedLSTM.forward\u001b[1;34m(self, x)\u001b[0m\n\u001b[0;32m     21\u001b[0m c0 \u001b[39m=\u001b[39m torch\u001b[39m.\u001b[39mzeros(\u001b[39mself\u001b[39m\u001b[39m.\u001b[39mlayer_dim, x\u001b[39m.\u001b[39msize(\u001b[39m0\u001b[39m), \u001b[39mself\u001b[39m\u001b[39m.\u001b[39mhidden_dim)\u001b[39m.\u001b[39mto(x\u001b[39m.\u001b[39mdevice)\n\u001b[0;32m     23\u001b[0m \u001b[39m# Get the outputs and the new hidden state from the LSTM\u001b[39;00m\n\u001b[1;32m---> 24\u001b[0m out, (hn, cn) \u001b[39m=\u001b[39m \u001b[39mself\u001b[39;49m\u001b[39m.\u001b[39;49mlstm(x, (h0, c0))\n\u001b[0;32m     26\u001b[0m \u001b[39m# Index hidden state of last time step\u001b[39;00m\n\u001b[0;32m     27\u001b[0m out \u001b[39m=\u001b[39m \u001b[39mself\u001b[39m\u001b[39m.\u001b[39mfc(out[:, \u001b[39m-\u001b[39m\u001b[39m5\u001b[39m:, :])  \u001b[39m# out.size() --> batch_size, output_dim\u001b[39;00m\n",
      "File \u001b[1;32mc:\\Users\\heeseopark\\AppData\\Local\\Programs\\Python\\Python311\\Lib\\site-packages\\torch\\nn\\modules\\module.py:1501\u001b[0m, in \u001b[0;36mModule._call_impl\u001b[1;34m(self, *args, **kwargs)\u001b[0m\n\u001b[0;32m   1496\u001b[0m \u001b[39m# If we don't have any hooks, we want to skip the rest of the logic in\u001b[39;00m\n\u001b[0;32m   1497\u001b[0m \u001b[39m# this function, and just call forward.\u001b[39;00m\n\u001b[0;32m   1498\u001b[0m \u001b[39mif\u001b[39;00m \u001b[39mnot\u001b[39;00m (\u001b[39mself\u001b[39m\u001b[39m.\u001b[39m_backward_hooks \u001b[39mor\u001b[39;00m \u001b[39mself\u001b[39m\u001b[39m.\u001b[39m_backward_pre_hooks \u001b[39mor\u001b[39;00m \u001b[39mself\u001b[39m\u001b[39m.\u001b[39m_forward_hooks \u001b[39mor\u001b[39;00m \u001b[39mself\u001b[39m\u001b[39m.\u001b[39m_forward_pre_hooks\n\u001b[0;32m   1499\u001b[0m         \u001b[39mor\u001b[39;00m _global_backward_pre_hooks \u001b[39mor\u001b[39;00m _global_backward_hooks\n\u001b[0;32m   1500\u001b[0m         \u001b[39mor\u001b[39;00m _global_forward_hooks \u001b[39mor\u001b[39;00m _global_forward_pre_hooks):\n\u001b[1;32m-> 1501\u001b[0m     \u001b[39mreturn\u001b[39;00m forward_call(\u001b[39m*\u001b[39;49margs, \u001b[39m*\u001b[39;49m\u001b[39m*\u001b[39;49mkwargs)\n\u001b[0;32m   1502\u001b[0m \u001b[39m# Do not call functions when jit is used\u001b[39;00m\n\u001b[0;32m   1503\u001b[0m full_backward_hooks, non_full_backward_hooks \u001b[39m=\u001b[39m [], []\n",
      "File \u001b[1;32mc:\\Users\\heeseopark\\AppData\\Local\\Programs\\Python\\Python311\\Lib\\site-packages\\torch\\nn\\modules\\rnn.py:810\u001b[0m, in \u001b[0;36mLSTM.forward\u001b[1;34m(self, input, hx)\u001b[0m\n\u001b[0;32m    806\u001b[0m     \u001b[39m# Each batch of the hidden state should match the input sequence that\u001b[39;00m\n\u001b[0;32m    807\u001b[0m     \u001b[39m# the user believes he/she is passing in.\u001b[39;00m\n\u001b[0;32m    808\u001b[0m     hx \u001b[39m=\u001b[39m \u001b[39mself\u001b[39m\u001b[39m.\u001b[39mpermute_hidden(hx, sorted_indices)\n\u001b[1;32m--> 810\u001b[0m \u001b[39mself\u001b[39;49m\u001b[39m.\u001b[39;49mcheck_forward_args(\u001b[39minput\u001b[39;49m, hx, batch_sizes)\n\u001b[0;32m    811\u001b[0m \u001b[39mif\u001b[39;00m batch_sizes \u001b[39mis\u001b[39;00m \u001b[39mNone\u001b[39;00m:\n\u001b[0;32m    812\u001b[0m     result \u001b[39m=\u001b[39m _VF\u001b[39m.\u001b[39mlstm(\u001b[39minput\u001b[39m, hx, \u001b[39mself\u001b[39m\u001b[39m.\u001b[39m_flat_weights, \u001b[39mself\u001b[39m\u001b[39m.\u001b[39mbias, \u001b[39mself\u001b[39m\u001b[39m.\u001b[39mnum_layers,\n\u001b[0;32m    813\u001b[0m                       \u001b[39mself\u001b[39m\u001b[39m.\u001b[39mdropout, \u001b[39mself\u001b[39m\u001b[39m.\u001b[39mtraining, \u001b[39mself\u001b[39m\u001b[39m.\u001b[39mbidirectional, \u001b[39mself\u001b[39m\u001b[39m.\u001b[39mbatch_first)\n",
      "File \u001b[1;32mc:\\Users\\heeseopark\\AppData\\Local\\Programs\\Python\\Python311\\Lib\\site-packages\\torch\\nn\\modules\\rnn.py:730\u001b[0m, in \u001b[0;36mLSTM.check_forward_args\u001b[1;34m(self, input, hidden, batch_sizes)\u001b[0m\n\u001b[0;32m    725\u001b[0m \u001b[39mdef\u001b[39;00m \u001b[39mcheck_forward_args\u001b[39m(\u001b[39mself\u001b[39m,  \u001b[39m# type: ignore[override]\u001b[39;00m\n\u001b[0;32m    726\u001b[0m                        \u001b[39minput\u001b[39m: Tensor,\n\u001b[0;32m    727\u001b[0m                        hidden: Tuple[Tensor, Tensor],\n\u001b[0;32m    728\u001b[0m                        batch_sizes: Optional[Tensor],\n\u001b[0;32m    729\u001b[0m                        ):\n\u001b[1;32m--> 730\u001b[0m     \u001b[39mself\u001b[39;49m\u001b[39m.\u001b[39;49mcheck_input(\u001b[39minput\u001b[39;49m, batch_sizes)\n\u001b[0;32m    731\u001b[0m     \u001b[39mself\u001b[39m\u001b[39m.\u001b[39mcheck_hidden_size(hidden[\u001b[39m0\u001b[39m], \u001b[39mself\u001b[39m\u001b[39m.\u001b[39mget_expected_hidden_size(\u001b[39minput\u001b[39m, batch_sizes),\n\u001b[0;32m    732\u001b[0m                            \u001b[39m'\u001b[39m\u001b[39mExpected hidden[0] size \u001b[39m\u001b[39m{}\u001b[39;00m\u001b[39m, got \u001b[39m\u001b[39m{}\u001b[39;00m\u001b[39m'\u001b[39m)\n\u001b[0;32m    733\u001b[0m     \u001b[39mself\u001b[39m\u001b[39m.\u001b[39mcheck_hidden_size(hidden[\u001b[39m1\u001b[39m], \u001b[39mself\u001b[39m\u001b[39m.\u001b[39mget_expected_cell_size(\u001b[39minput\u001b[39m, batch_sizes),\n\u001b[0;32m    734\u001b[0m                            \u001b[39m'\u001b[39m\u001b[39mExpected hidden[1] size \u001b[39m\u001b[39m{}\u001b[39;00m\u001b[39m, got \u001b[39m\u001b[39m{}\u001b[39;00m\u001b[39m'\u001b[39m)\n",
      "File \u001b[1;32mc:\\Users\\heeseopark\\AppData\\Local\\Programs\\Python\\Python311\\Lib\\site-packages\\torch\\nn\\modules\\rnn.py:218\u001b[0m, in \u001b[0;36mRNNBase.check_input\u001b[1;34m(self, input, batch_sizes)\u001b[0m\n\u001b[0;32m    214\u001b[0m     \u001b[39mraise\u001b[39;00m \u001b[39mRuntimeError\u001b[39;00m(\n\u001b[0;32m    215\u001b[0m         \u001b[39m'\u001b[39m\u001b[39minput must have \u001b[39m\u001b[39m{}\u001b[39;00m\u001b[39m dimensions, got \u001b[39m\u001b[39m{}\u001b[39;00m\u001b[39m'\u001b[39m\u001b[39m.\u001b[39mformat(\n\u001b[0;32m    216\u001b[0m             expected_input_dim, \u001b[39minput\u001b[39m\u001b[39m.\u001b[39mdim()))\n\u001b[0;32m    217\u001b[0m \u001b[39mif\u001b[39;00m \u001b[39mself\u001b[39m\u001b[39m.\u001b[39minput_size \u001b[39m!=\u001b[39m \u001b[39minput\u001b[39m\u001b[39m.\u001b[39msize(\u001b[39m-\u001b[39m\u001b[39m1\u001b[39m):\n\u001b[1;32m--> 218\u001b[0m     \u001b[39mraise\u001b[39;00m \u001b[39mRuntimeError\u001b[39;00m(\n\u001b[0;32m    219\u001b[0m         \u001b[39m'\u001b[39m\u001b[39minput.size(-1) must be equal to input_size. Expected \u001b[39m\u001b[39m{}\u001b[39;00m\u001b[39m, got \u001b[39m\u001b[39m{}\u001b[39;00m\u001b[39m'\u001b[39m\u001b[39m.\u001b[39mformat(\n\u001b[0;32m    220\u001b[0m             \u001b[39mself\u001b[39m\u001b[39m.\u001b[39minput_size, \u001b[39minput\u001b[39m\u001b[39m.\u001b[39msize(\u001b[39m-\u001b[39m\u001b[39m1\u001b[39m)))\n",
      "\u001b[1;31mRuntimeError\u001b[0m: input.size(-1) must be equal to input_size. Expected 5, got 6"
     ]
    }
   ],
   "source": [
    "model.eval()  # set the model to evaluation mode\n",
    "\n",
    "# Choose a sample from your test dataset\n",
    "sample = test_data[0].unsqueeze(0).to(device)  # unsqueeze to add a batch dimension, exclude the time feature\n",
    "\n",
    "\n",
    "# Get the model's predictions\n",
    "with torch.no_grad():\n",
    "    predictions, probabilities = model(sample)\n"
   ]
  },
  {
   "cell_type": "code",
   "execution_count": null,
   "metadata": {},
   "outputs": [
    {
     "data": {
      "image/png": "[encoded data removed]",
      "text/plain": [
       "<Figure size 1000x500 with 1 Axes>"
      ]
     },
     "metadata": {},
     "output_type": "display_data"
    },
    {
     "data": {
      "image/png": "[encoded data removed]",
      "text/plain": [
       "<Figure size 1000x500 with 1 Axes>"
      ]
     },
     "metadata": {},
     "output_type": "display_data"
    }
   ],
   "source": [
    "import matplotlib.pyplot as plt\n",
    "\n",
    "# Convert predictions and probabilities to numpy arrays\n",
    "predictions = predictions.squeeze().cpu().numpy()\n",
    "probabilities = probabilities.squeeze().cpu().numpy()\n",
    "\n",
    "# Get the time steps\n",
    "time_steps = list(range(len(predictions)))\n",
    "\n",
    "# Plot the predictions\n",
    "plt.figure(figsize=(10, 5))\n",
    "plt.plot(time_steps, predictions[:, 3], label='Predicted Close')  # assuming close price is at index 3\n",
    "plt.title('Predicted Close Prices')\n",
    "plt.xlabel('Time Step')\n",
    "plt.ylabel('Price')\n",
    "plt.legend()\n",
    "plt.show()\n",
    "\n",
    "# Plot the probabilities\n",
    "plt.figure(figsize=(10, 5))\n",
    "plt.plot(time_steps, probabilities[:, 3], label='Probability')  # assuming probability for close price is at index 3\n",
    "plt.title('Probabilities for Close Prices')\n",
    "plt.xlabel('Time Step')\n",
    "plt.ylabel('Probability')\n",
    "plt.legend()\n",
    "plt.show()\n"
   ]
  }
 ],
 "metadata": {
  "kernelspec": {
   "display_name": "Python 3",
   "language": "python",
   "name": "python3"
  },
  "language_info": {
   "codemirror_mode": {
    "name": "ipython",
    "version": 3
   },
   "file_extension": ".py",
   "mimetype": "text/x-python",
   "name": "python",
   "nbconvert_exporter": "python",
   "pygments_lexer": "ipython3",
   "version": "3.11.2"
  },
  "orig_nbformat": 4
 },
 "nbformat": 4,
 "nbformat_minor": 2
}
